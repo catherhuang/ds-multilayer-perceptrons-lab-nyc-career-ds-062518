{
 "cells": [
  {
   "cell_type": "markdown",
   "metadata": {},
   "source": [
    "# Deeper Neural Networks-- Multi-Layer Perceptrons Lab"
   ]
  },
  {
   "cell_type": "markdown",
   "metadata": {},
   "source": [
    "In this lab, we'll extend our neural networks knowledge further and add one hidden layer in our neural network, which is commonly referred to as a **_Multi-Layer Perceptron (MLP)_**!\n",
    "\n",
    "We'll perform forward propagation, backward propagation, and work with activation functions we haven't used before: the hyperbolic tangent or \"tanh\" activation function. Let's get started!"
   ]
  },
  {
   "cell_type": "markdown",
   "metadata": {},
   "source": [
    "# 1. Import packages and generate the data"
   ]
  },
  {
   "cell_type": "markdown",
   "metadata": {},
   "source": [
    "Let's first start with importing the necessary libraries. We'll use plotting as well as numpy. Additionally, we'll generate our own data using scikit-learn, so we have to use that library as well."
   ]
  },
  {
   "cell_type": "code",
   "execution_count": null,
   "metadata": {},
   "outputs": [],
   "source": [
    "# Package imports\n",
    "import matplotlib\n",
    "import matplotlib.pyplot as plt\n",
    "import numpy as np\n",
    "np.random.seed(0)\n",
    "import sklearn\n",
    "from sklearn.datasets import make_classification\n",
    "import sklearn.linear_model\n",
    "\n",
    "# Display plots inline and change default figure size\n",
    "%matplotlib inline\n",
    "matplotlib.rcParams['figure.figsize'] = (6.0, 6.0)"
   ]
  },
  {
   "cell_type": "markdown",
   "metadata": {},
   "source": [
    "Next, let's generate our data. Scikit-learns enables the creation of simple toy datasets to visualize clustering and classification algorithms. One of them is called `make_circles` and generates a a large circle containing a smaller circle in 2D. `make_circles`-function has several arguments, but here we'll just use 2: `n_samples` and `noise`. We'll create a data set with 500 samples, and insert noise equal to 0.1.\n",
    "\n",
    "Run the cell below to create and plot our sample dataset and the corresponding labels. "
   ]
  },
  {
   "cell_type": "code",
   "execution_count": null,
   "metadata": {},
   "outputs": [],
   "source": [
    "# Generate a dataset and plot it\n",
    "np.random.seed(123)\n",
    "sample_size = 500\n",
    "X, Y = sklearn.datasets.make_circles(n_samples = sample_size, noise = 0.1)\n",
    "# Display plots inline and change default figure size\n",
    "%matplotlib inline\n",
    "matplotlib.rcParams['figure.figsize'] = (6.0, 6.0)\n",
    "plt.scatter(X[:,0], X[:,1], s=20, c=Y, edgecolors=\"gray\")"
   ]
  },
  {
   "cell_type": "markdown",
   "metadata": {},
   "source": [
    "Note that we just generated to \"classes\": the yellow dots and the purple dots. The goal of this lab is to create a model which can create a **_Decision Boundary_** to distinguish the smaller (yellow) circle from the larger (purple) one."
   ]
  },
  {
   "cell_type": "markdown",
   "metadata": {},
   "source": [
    "We'll build a neural network to do this. But first, let's build a logistic regression model and see how that model performs. We'll use this as a benchmark to compare against our MLP."
   ]
  },
  {
   "cell_type": "markdown",
   "metadata": {},
   "source": [
    "# 2. Build a logistic regression model"
   ]
  },
  {
   "cell_type": "markdown",
   "metadata": {},
   "source": [
    "Use the Scikit-learn function `linear_model.LogisticRegression()` to build a logistic regression model. \n",
    "\n",
    "Then, `.fit()` the object to `X` and `Y`."
   ]
  },
  {
   "cell_type": "code",
   "execution_count": null,
   "metadata": {},
   "outputs": [],
   "source": [
    "log_reg = None"
   ]
  },
  {
   "cell_type": "markdown",
   "metadata": {},
   "source": [
    "In the cell below, we've provided a helper function that will allow us to visualize the results of our classifier by plotting the decision boundary.  You'll use this helper function to visualize the classification performance.\n",
    "\n",
    "Run the cell below to create the helper function `plot_decision_boundary()`."
   ]
  },
  {
   "cell_type": "code",
   "execution_count": null,
   "metadata": {},
   "outputs": [],
   "source": [
    "# We got this helper function online to create a decision boundry\n",
    "def plot_decision_boundary(pred_func):\n",
    "    # Set min and max values and give it some padding\n",
    "    x_min, x_max = X[:, 0].min() - .3, X[:, 0].max() + .3\n",
    "    y_min, y_max = X[:, 1].min() - .3, X[:, 1].max() + .3\n",
    "    h = 0.005\n",
    "    # Generate a grid of points with distance h between them\n",
    "    xx, yy = np.meshgrid(np.arange(x_min, x_max, h), np.arange(y_min, y_max, h))\n",
    "    # Predict the function value for the whole gid\n",
    "    Z = pred_func(np.c_[xx.ravel(), yy.ravel()])\n",
    "    Z = Z.reshape(xx.shape)\n",
    "    # Plot the contour and training examples\n",
    "    plt.contourf(xx, yy, Z)\n",
    "    plt.scatter(X[:, 0], X[:, 1],s=20, c=Y ,edgecolors=\"gray\")"
   ]
  },
  {
   "cell_type": "markdown",
   "metadata": {},
   "source": [
    "In the helper function, let's create a lambda function inside `plot_decision_boundary` in order to create a decision boundary using the predictions made by the logistic regression model `log_reg`.\n",
    "\n",
    "In the cell below, call `plot_decision_boundary()` and pass in a lambda function called `x`, which should be equal `log_reg.predict(x)`.  \n",
    "\n"
   ]
  },
  {
   "cell_type": "code",
   "execution_count": null,
   "metadata": {},
   "outputs": [],
   "source": []
  },
  {
   "cell_type": "markdown",
   "metadata": {},
   "source": [
    "Now explicitly store the predictions using `X` in `log_reg_predict`, so we can calculate the accuracy.\n",
    "\n",
    "In the cell below, call `log_reg_predict(X)` and store the results that it returns inside of `log_reg_predict`"
   ]
  },
  {
   "cell_type": "code",
   "execution_count": null,
   "metadata": {},
   "outputs": [],
   "source": [
    "log_reg_predict = None"
   ]
  },
  {
   "cell_type": "code",
   "execution_count": null,
   "metadata": {},
   "outputs": [],
   "source": [
    "print ('The logistic regression model has an accuracy of: ' \n",
    "       + str(np.sum(log_reg_predict == Y)/sample_size*100) + '%')"
   ]
  },
  {
   "cell_type": "markdown",
   "metadata": {},
   "source": [
    "**How did this model perform? Is this a surprise? Why do you think the model wasn't able to perform better?**\n",
    "\n",
    "Write your answer below this line:\n",
    "______________________________________________________________________________________________________________________\n"
   ]
  },
  {
   "cell_type": "markdown",
   "metadata": {},
   "source": [
    "# 3. Building a Multi-Layer Perceptron"
   ]
  },
  {
   "cell_type": "markdown",
   "metadata": {},
   "source": [
    "## 3.1 network architecture and data pre-processing\n",
    "\n",
    "A **_Multi-Layer Perceptron (MLP)_** is a perceptron with at least one **_Hidden Layer_** in between our input layer and our output layer.  MLPs belong to the family of algorithms that are considered **_Neural Networks_**."
   ]
  },
  {
   "cell_type": "markdown",
   "metadata": {},
   "source": [
    "Let's see if a neural network can do better. In what follows, you'll build a neural network with one hidden layer (the hidden layer has 6 units, as follows):"
   ]
  },
  {
   "cell_type": "markdown",
   "metadata": {},
   "source": [
    "![title](figures/lab_2_graph.png)"
   ]
  },
  {
   "cell_type": "markdown",
   "metadata": {},
   "source": [
    "Let's reintroduce some of the terminology.\n",
    "\n",
    "- remember that the input layer passes on $a^{[0]}$ to the next layer, which simply is equal to $x = (x_1, x_2)$. \n",
    "\n",
    "\n",
    "\n",
    "- The hidden layer passes on $a^{[1]} = \\begin{bmatrix} a^{[1]}_1  \\\\a^{[1]}_2 \\\\ a^{[1]}_3 \\\\ a^{[1]}_4\\\\ a^{[1]}_5\\\\ a^{[1]}_6\\end{bmatrix}$  \n",
    "\n",
    "- This sort of notation is common for describing the architecture of a layer in a Neural Network.  The top number inside of brackets denotes the **_layer_** that the neuron belongs to, while the bottom number denotes the index of the neuron inside its corresponding layer. \n",
    "\n",
    "\n",
    "\n",
    "- The final layer outputs $a^{[2]}$ which is $\\hat y$.\n",
    "\n"
   ]
  },
  {
   "cell_type": "markdown",
   "metadata": {},
   "source": [
    "Note that the input layer has 2 inputs, $x_1$ and $x_2$ (which are basically the x- and y-coordinates in the graph with the two circles above). Let's look at the shape of the X-matrix.\n",
    "\n",
    "In the cell below, check the `.shape` attribute of our data."
   ]
  },
  {
   "cell_type": "code",
   "execution_count": null,
   "metadata": {},
   "outputs": [],
   "source": []
  },
  {
   "cell_type": "markdown",
   "metadata": {},
   "source": [
    "Run the cell below to examine an example row from our dataset."
   ]
  },
  {
   "cell_type": "code",
   "execution_count": null,
   "metadata": {},
   "outputs": [],
   "source": []
  },
  {
   "cell_type": "markdown",
   "metadata": {},
   "source": [
    "Remember that for the neural networks, we want the number of inputs to be rows and the number of cases to be columns. Hence we transpose this matrix.  By transposing our our data, we make it easy to compute the dot-product of our weights, which are \"tall and skinny\", with our inputs, which are now \"short and fat\".  \n",
    "\n",
    "In the cell below, set `X_nn` equal to the transpose of `X`\n",
    "\n",
    "**_HINT:_** Use the `.T` attribute!"
   ]
  },
  {
   "cell_type": "code",
   "execution_count": null,
   "metadata": {},
   "outputs": [],
   "source": []
  },
  {
   "cell_type": "markdown",
   "metadata": {},
   "source": [
    "Run the cell below to display the first row of data from our transposed data. "
   ]
  },
  {
   "cell_type": "code",
   "execution_count": null,
   "metadata": {},
   "outputs": [],
   "source": [
    "X_nn[1, :]"
   ]
  },
  {
   "cell_type": "markdown",
   "metadata": {},
   "source": [
    "Similarly, for the labels, we like to have a row-matrix.\n",
    "\n",
    "In the cell below, reshape our labels to a shape of `(1, 500)`  using `np.reshape()`.  Store the results returned inside of `Y_nn`."
   ]
  },
  {
   "cell_type": "code",
   "execution_count": null,
   "metadata": {},
   "outputs": [],
   "source": [
    "Y_nn = None"
   ]
  },
  {
   "cell_type": "markdown",
   "metadata": {},
   "source": [
    "Run the cell below to display the shape of our reshaped data and labels."
   ]
  },
  {
   "cell_type": "code",
   "execution_count": null,
   "metadata": {},
   "outputs": [],
   "source": [
    "np.shape(X_nn), np.shape(Y_nn)"
   ]
  },
  {
   "cell_type": "markdown",
   "metadata": {},
   "source": [
    "As per the network architecture above, there are two nodes in the input layer, and 1 node in the output layer (with a sigmoid activation). \n",
    "\n",
    "We will create three objects to store the size of each layer: `n_0`, `n_1` and `n_2`. \n",
    "\n",
    "`n_0` (input layer size) and `n_2` (output layer size) are defined by the data, `n_1` is a hyperparameter and can be changed to optimize the result! \n",
    "\n",
    "For this exercise, we've chosen to have 6 nodes in the hidden layer, so let's hardcode the size `n_1` equal to 6. "
   ]
  },
  {
   "cell_type": "code",
   "execution_count": null,
   "metadata": {},
   "outputs": [],
   "source": [
    "n_0 = np.shape(X_nn)[0]\n",
    "n_1 = 6\n",
    "n_2 = np.shape(Y_nn)[0] "
   ]
  },
  {
   "cell_type": "markdown",
   "metadata": {},
   "source": [
    "# 3.2 Forward & Backward Propagation"
   ]
  },
  {
   "cell_type": "markdown",
   "metadata": {},
   "source": [
    "Neural Networks have two major processes: **_Forward Propagation_** and **_Back Propagation_**.  During Forward Propagation, we start at the input layer and feed our data in, propagating it through the network until we've reached the output layer and generated a prediction.  \n",
    "\n",
    "**_Back Propagation_** is essentially the opposite of Forward Propagation.  In the Forward Propagation step, we start at the beginning and work towards the end of the network.  In Back Propagation, we start at the end of the Neural Network--the prediction we ended up with as a result of Forward Propagation--and work backwards, allowing our model to \"learn\" by comparing our prediction with the actual label for the training data. \n",
    "\n",
    "## Implementing Forward Propagation\n",
    "\n",
    "To implement Forward Propagation, we'll start at the input layer and repeat the following steps until we reach the end fo the network, the output of the output layer:\n",
    "\n",
    "1. Calculate $Z$ by taking the dot product of the layer's weights and the inputs from the previous layer (this step is called the **_Transfer Function_**) \n",
    "2. Pass Z into our **_Activation Function_**.  \n",
    "3. Repeat, using the output of the Activation Function as the input for the next layer. \n",
    "\n",
    "Note that we can actually start with the first hidden layer, since we don't actually need to do any computations in the input layer.\n",
    "\n",
    "Let's start forward propagating from $a^{[0]}$ to $a^{[1]}$. Note that we compute for each sample $x^{(i)}= (x_{1}^{(i)},x_{2}^{(i)})$, we compute $a^{[1] (i)}$:\n",
    "First, let's get to $z^{[1] (i)}$ using $W^{[1]}$ and  $b^{[1]}$:\n",
    "\n",
    "$$z^{[1] (i)} =  W^{[1]} x^{(i)} + b^{[1]}$$ \n",
    "\n",
    "Then, we'll use the hyperbolic tangent function as an activation function to get to $a^{[1] (i)}$.\n",
    "\n",
    "$$a^{[1] (i)} = \\tanh(z^{[1] (i)})$$\n"
   ]
  },
  {
   "cell_type": "markdown",
   "metadata": {},
   "source": [
    "In this example, $W^{[1]}$ is a (6 x 2)-matrix, $b^{[1]}$ is a (6 x 1)-matrix.\n",
    "\n",
    "Before we can do any calculations, we first need to initialize our weights!"
   ]
  },
  {
   "cell_type": "markdown",
   "metadata": {},
   "source": [
    "## Where Do The Weights Come From?\n",
    "\n",
    "We know that after sufficient training, our network will have learned the best weights--but what should they start out as?\n",
    "\n",
    "The simple answer is to randomly intialize them to very small values. \n",
    "\n",
    "In order to get to $a^{[1] (i)}$, we need to initialize this $W^{[1]}$ and $b^{[1]}$. \n",
    "Let's initialize $b^{[1]}$ as a matrix of zeroes, and $W^{[1]}$ as a matrix with random number generated by the standard normal distribution, but then multiplied by 0.05 to make them smaller.\n",
    "\n",
    "Next, let's go one step further and do the same thing for $W^{[2]}$ and $b^{[2]}$.\n",
    "Recall that: \n",
    "$$z^{[2] (i)} =  W^{[2]} a^{[1](i)} + b^{[2]}$$ \n",
    "\n",
    "What are the correct dimensions for $W^{[2]}$ and $b^{[2]}$? Use `n_0`, `n_1` and `n_2`, and look at the network graph above to get to the right dimensions!\n",
    "\n",
    "\n",
    "In the cell below, complete the `initialize_parameters()` function.  This function should:\n",
    "* Take in 3 parameters, `n_0, n_1` and `n_2`.\n",
    "* Initialize the weights `W1` to `np.random.rand(n_1, n_0)`, scaled down by multiplying by `0.05`\n",
    "* Initialize the bias `b1` for hidden layer 1 an array of zeros of shape `(n_1, 1)` (hint: use `np.zeroes()`!)\n",
    "* Initialize the weights `W2` to `np.random.randn(n_2, n_1)`, scaled down by multiplying by `0.05`\n",
    "* Initialize the bias `b2` for our output layer to an array of zeroes of shape `(n_2, 1)`\n",
    "* Store the variables we just initialized inside a `parameters` dictionary and return `parameters`."
   ]
  },
  {
   "cell_type": "code",
   "execution_count": null,
   "metadata": {},
   "outputs": [],
   "source": [
    "def initialize_parameters(n_0, n_1, n_2):\n",
    "    W1 = None\n",
    "    b1 = None\n",
    "    W2 = None\n",
    "    b2 = None\n",
    "    \n",
    "    parameters = {\"W1\": None,\n",
    "                  \"b1\": None,\n",
    "                  \"W2\": None,\n",
    "                  \"b2\": None}\n",
    "    \n",
    "    return parameters"
   ]
  },
  {
   "cell_type": "markdown",
   "metadata": {},
   "source": [
    "Now, let's initialize our parameters by calling the function we've just created and passing in the hyperparameter variables `n_0, n_1`, and `n_2` that we initialized above.  \n",
    "\n",
    "Do this in the cell below, and store the results in variable `parameters`."
   ]
  },
  {
   "cell_type": "code",
   "execution_count": null,
   "metadata": {},
   "outputs": [],
   "source": [
    "parameters = None"
   ]
  },
  {
   "cell_type": "markdown",
   "metadata": {},
   "source": [
    "Let's take a look at what the parameters have been initialized to.  Display the contents of `parameters` in the cell below.  "
   ]
  },
  {
   "cell_type": "code",
   "execution_count": null,
   "metadata": {},
   "outputs": [],
   "source": []
  },
  {
   "cell_type": "markdown",
   "metadata": {},
   "source": [
    "Now let's perform the actual forward propagation step to calculate  $z^{[1]}, a^{[1]}, z^{[2]}$ and $a^{[2]}$. You can use the function `np.tanh()` to compute the hyperbolic tangent function. Additionally, remember that $$\\hat{y}^{(i)} = a^{[2] (i)} = \\sigma(z^{ [2] (i)}).$$\n",
    "You can compute the sigmoid as $\\sigma(z^{ [2] (i)}) = \\displaystyle\\frac{1}{1 + \\exp(z^{ [2] (i)})}$\n",
    "\n",
    "\n",
    "In the cell below, complete the `forward_propagation()` function.  This function should:\n",
    "* Take in two parameters, `X` and `parameters`.\n",
    "* Set the initial values for the weights and biases by getting them from the `parameters` dictionary.\n",
    "* Compute the output of the transfer function for hidden layer 1 by taking the dot product of `W1` and `X` and then adding the bias values stored in `b1`. \n",
    "* Compute `A1`, the output of the activation function for hidden layer 1, by passing in our `Z1` value to `np.tanh()`\n",
    "* Compute `Z2` by taking the dot product of `W2` and `A1`, and then adding in bias `b2`.\n",
    "* Compute our prediction, the output of the output layer, by feeding `Z2` through a sigmoid function\n",
    "* Store the values computed during forward propagation inside a dictionary called `fw_out` and return it. "
   ]
  },
  {
   "cell_type": "code",
   "execution_count": null,
   "metadata": {},
   "outputs": [],
   "source": [
    "def forward_propagation(X, parameters):\n",
    "    W1 = None\n",
    "    b1 = None\n",
    "    W2 = None\n",
    "    b2 = None\n",
    "    \n",
    "    Z1 = None\n",
    "    A1 = None\n",
    "    Z2 = None\n",
    "    A2 = 1/(1 + np.exp(-Z2))\n",
    "        \n",
    "    fw_out = {\"Z1\": None,\n",
    "              \"A1\": None,\n",
    "              \"Z2\": None,\n",
    "              \"A2\": None}\n",
    "    \n",
    "    return fw_out"
   ]
  },
  {
   "cell_type": "markdown",
   "metadata": {},
   "source": [
    "Now, let's use the function we just created.  In the cell below, call `forward_propagation()` and pass in `X_nn` and `parameters`.  Store the results inside of `fw_out`."
   ]
  },
  {
   "cell_type": "code",
   "execution_count": null,
   "metadata": {},
   "outputs": [],
   "source": [
    "fw_out = None"
   ]
  },
  {
   "cell_type": "markdown",
   "metadata": {},
   "source": [
    "`Z1` and `A1` should be of shape `(6, 500)`, and `Z2` and `A2` should be of shape `(1, 500)`.\n",
    "\n",
    "Inspect `Z1`, `A1`, `Z2` and `A2` and make sure that the shape of all the outputs is correct! "
   ]
  },
  {
   "cell_type": "code",
   "execution_count": null,
   "metadata": {},
   "outputs": [],
   "source": [
    "\n",
    "# Expected Output: (6, 500)"
   ]
  },
  {
   "cell_type": "code",
   "execution_count": null,
   "metadata": {},
   "outputs": [],
   "source": [
    "\n",
    "# Expected Output: (1, 500)"
   ]
  },
  {
   "cell_type": "code",
   "execution_count": null,
   "metadata": {},
   "outputs": [],
   "source": [
    "\n",
    "# Expected Output: (6, 500)"
   ]
  },
  {
   "cell_type": "code",
   "execution_count": null,
   "metadata": {},
   "outputs": [],
   "source": [
    "\n",
    "# Expected Output: (1, 500)"
   ]
  },
  {
   "cell_type": "markdown",
   "metadata": {},
   "source": [
    "## 3.3 Compute the cost function\n",
    "\n",
    "In order to complete the back propagation step, we'll need to make use of a **_Cost Function_**.  For each sample in our training data, this function will compare our MLP's output (the predicted class) with the label that corresponds to each sample (the actual class). \n",
    "\n",
    "The cost function doesn't just tell us when we're wrong--it tells us _how_ we're wrong, which allows use gradient descent and adjust the weights in the correct direction!\n",
    "\n",
    "**_NOTE:_** Since we have vectorized our entire dataset, we are computing the cost for every single example at the same time using linear algebra.  Thus, we are actually finding the _average_ total cost for the dataset (which is why we mutliply by 1/m). "
   ]
  },
  {
   "cell_type": "markdown",
   "metadata": {},
   "source": [
    "$a^{[2] (i)}$ provides us with the predictions on all the samples.  We can then compute the cost $J$ as follows: \n",
    "$$J = - \\frac{1}{m} \\sum\\limits_{i = 0}^{m} \\large\\left(\\small y^{(i)}\\log\\left(a^{[2] (i)}\\right) + (1-y^{(i)})\\log\\left(1- a^{[2] (i)}\\right)  \\large  \\right) $$\n",
    "\n",
    "**_QUESTION_**:\n",
    "\n",
    "Why do you think we multiply by a negative in this equation? (Hint--think about this would affect gradient descent!)\n",
    "\n",
    "Write your answer below this line:\n",
    "______________________________________________________________________________________________________________________\n",
    "   \n",
    "   \n",
    "   \n",
    "   \n",
    "   \n",
    "\n",
    "In the cell below, complete the `compute_cost()` function.  This function should:\n",
    "\n",
    "* Take in 3 parameters: `A2`, `Y`, and `parameters`.\n",
    "* Set a variable `m` equal to the shape of `Y.shape[1]` (this has been provided for you).\n",
    "* Compute the `log_prob` by multiplying the log of `A2` and `Y` (use `np.multiply()` and `np.log()`, respectively)\n",
    "* Compute the cost--use numpy to implement the equation mentioned above!"
   ]
  },
  {
   "cell_type": "code",
   "execution_count": null,
   "metadata": {},
   "outputs": [],
   "source": [
    "def compute_cost(A2, Y, parameters):\n",
    "    m = np.shape(Y)[1] \n",
    "\n",
    "    log_prob = None\n",
    "    cost = None\n",
    "    return cost"
   ]
  },
  {
   "cell_type": "markdown",
   "metadata": {},
   "source": [
    "Now, in the cell below, get the prediction of our neural network out of `fw_out` (found under the `A2` key) and store it in the variable `A2`. \n",
    "\n",
    "Then, call our `compute_cost()` function and pass in `A2`, `Y_nn`, and `parameters`."
   ]
  },
  {
   "cell_type": "code",
   "execution_count": null,
   "metadata": {},
   "outputs": [],
   "source": [
    "A2= None\n",
    "compute_cost(A2, Y_nn, parameters) # Expected Output: 0.69314079305668752"
   ]
  },
  {
   "cell_type": "markdown",
   "metadata": {},
   "source": [
    "## 3.3 Backward propagation"
   ]
  },
  {
   "cell_type": "markdown",
   "metadata": {},
   "source": [
    "Now that we have our cost function, we can begin writing out back propagation function!\n",
    "\n",
    "For what you have seen in the lecture, you can use the following expressions to calculate the derivatives with respect to $z$, $W$, and $b$.\n",
    "\n",
    "$ dz^{[2]}= a^{[2]} - y $\n",
    "\n",
    "$ dW^{[2]} = 1/m *  dz^{[2]} a^{[1]T}$\n",
    "\n",
    "$ db^{[2]} = 1/m * dz^{[2]} $ \n",
    "\n",
    "$ dz^{[1]} =  dW^{[2]T}dz^{[2]} * g'{[1]}(z^{[1]})$\n",
    "\n",
    "$ dW^{[1]} = 1/m * dz^{[1]} x^T$\n",
    "\n",
    "$ db^{[1]} = 1/m * dz^{[1]}$\n"
   ]
  },
  {
   "cell_type": "markdown",
   "metadata": {},
   "source": [
    "Recall that $dz^{[1]}$ and $dz^{[2]}$ will be matrices of shape (6, 500) and (1, 500) respectively. $dz^{[1]}$ and  $dz^{[2]}$ however are matrices of size (6, 1) and (1, 1). We'll need to take the averages over the 500 columns in the matrices. You can use python code of the form ```(1/m) * np.sum(dZ1,  axis=1, keepdims=True)```. We need to apply $1/m$ to compute $dW^{[1]}$ and $dW^{[2]}$ as well.\n"
   ]
  },
  {
   "cell_type": "markdown",
   "metadata": {},
   "source": [
    "About $g^{[1]'}(z^{[1]})$: since $g^{[1]}(z^{[1]})$ is the tanh-function, its derivative $g^{[1]'}(z^{[1]})$ is equal to $1-a^2$. You can use `np.power` to compute this.\n",
    "\n",
    "In the cell below, complete the `back_propagation()` function.  This is, by far, the most complicated function in this lab, because we'll need to compute all of these partial derivatives.  Because of this, we've provided some direction in the form of comments inside the function.  "
   ]
  },
  {
   "cell_type": "code",
   "execution_count": null,
   "metadata": {},
   "outputs": [],
   "source": [
    "def backward_propagation(parameters, fw_out, X, Y):\n",
    "    m = X.shape[1]\n",
    "    \n",
    "    # Get these out of the parameters dictionary\n",
    "    W1 = None\n",
    "    W2 = None\n",
    "\n",
    "    # Get these out of fw_out\n",
    "    A1 = None\n",
    "    A2 = None\n",
    "    \n",
    "    # Use the equations provided in the instructions in the cell above to calculate these\n",
    "    dZ2 = None\n",
    "    dW2 = None\n",
    "    db2 = None\n",
    "    dZ1 = None\n",
    "    dW1 = None\n",
    "    db1 = None\n",
    "    \n",
    "    # Store the corresponding values witht heir appropriate keys\n",
    "    bw_out = {\"dW1\": None,\n",
    "              \"db1\": None,\n",
    "              \"dW2\": None,\n",
    "              \"db2\": None}\n",
    "    \n",
    "    return bw_out"
   ]
  },
  {
   "cell_type": "markdown",
   "metadata": {},
   "source": [
    "Now, in the cell below, call our new `back_propagation` function and store the results it returns inside of `bw_out`."
   ]
  },
  {
   "cell_type": "code",
   "execution_count": null,
   "metadata": {},
   "outputs": [],
   "source": [
    "bw_out = None"
   ]
  },
  {
   "cell_type": "markdown",
   "metadata": {},
   "source": [
    "# 3.4 Update the parameters"
   ]
  },
  {
   "cell_type": "markdown",
   "metadata": {},
   "source": [
    "Now that we have run back propagation, we know how to update our parameters. All that is left ot do is actually update our parameter values!\n",
    "\n",
    "To update the parameters, let's go back and use the outputs of the parameter initialization and the backward propagation.\n",
    "\n",
    "In the cell below, complete the `update_parameters` function.  As in the back propagation function, we have added comments in the body of the function to help complete it. "
   ]
  },
  {
   "cell_type": "code",
   "execution_count": null,
   "metadata": {},
   "outputs": [],
   "source": [
    "def update_parameters(parameters, bw_out, alpha = 0.7):\n",
    "    \n",
    "    # Get these out of the parameters dictionary\n",
    "    W1 = None\n",
    "    b1 = None\n",
    "    W2 = None\n",
    "    b2 = None\n",
    "\n",
    "    # Get these out of the bw_out dictionary\n",
    "    dW1 = None\n",
    "    db1 = None\n",
    "    dW2 = None\n",
    "    db2 = None\n",
    "    \n",
    "    # Update each of these parameters by subracting alpha * corresponding derivative from current value.  \n",
    "    # As an example, the first one has been provided for you.  \n",
    "    W1 = W1 - alpha * dW1\n",
    "    b1 = None\n",
    "    W2 = None\n",
    "    b2 = None\n",
    "    \n",
    "    # Store the updated values in the parameters dictionary.\n",
    "    parameters = {\"W1\": None,\n",
    "                  \"b1\": None,\n",
    "                  \"W2\": None,\n",
    "                  \"b2\": None}\n",
    "    \n",
    "    return parameters"
   ]
  },
  {
   "cell_type": "markdown",
   "metadata": {},
   "source": [
    "Now, run our new `update_parameters` function, and pass in `parameters` and `bw_out`."
   ]
  },
  {
   "cell_type": "code",
   "execution_count": null,
   "metadata": {},
   "outputs": [],
   "source": []
  },
  {
   "cell_type": "raw",
   "metadata": {},
   "source": [
    "Expected output: \n",
    "\n",
    "{'W1': array([[ 0.04910168, -0.05514234],\n",
    "        [-0.05929583, -0.01051881],\n",
    "        [ 0.07433463,  0.01198439],\n",
    "        [-0.05117557, -0.03557491],\n",
    "        [ 0.03128015, -0.00792934],\n",
    "        [-0.03838823, -0.01121189]]), 'b1': array([[  6.45768158e-06],\n",
    "        [  1.15883998e-05],\n",
    "        [ -1.15127034e-05],\n",
    "        [ -3.99251339e-06],\n",
    "        [ -1.24692629e-06],\n",
    "        [ -6.12572520e-06]]), 'W2': array([[ 0.0373627 ,  0.09885649, -0.06226744, -0.03121282, -0.040183  ,\n",
    "         -0.12090948]]), 'b2': array([[ -3.30367789e-06]])}"
   ]
  },
  {
   "cell_type": "markdown",
   "metadata": {},
   "source": [
    "# Putting It All Together\n",
    "\n",
    "We now have all the constituent functions needed to build our own fully functional neural network.  \n",
    "\n",
    "In the cell below, complete the `nn_model` function.  The general structure of this function is as follows:\n",
    "\n",
    "* Initialize the parameters\n",
    "* For each iteration:\n",
    "    * Compute forward propagation\n",
    "    * Compute cost from output of forward propagation\n",
    "    * Use cost to compute back propagation\n",
    "    * update parameters using results of back propagation function\n",
    "    \n",
    "We'll also want to print the cost every thousanth iteration, so that we can see what the model is doing as it progresses.  "
   ]
  },
  {
   "cell_type": "code",
   "execution_count": null,
   "metadata": {},
   "outputs": [],
   "source": [
    "def nn_model(X, Y, n_1, num_iter = 10000, print_cost=False):\n",
    "    # Get the shape of our data\n",
    "    n_x = np.shape(X)[0] \n",
    "    n_y = np.shape(Y)[0] \n",
    "\n",
    "    # initialize parameters. Pass in the hyperparameters n_0, n_1, and n_2 that we set at the start of the notebook\n",
    "    parameters = None\n",
    "    # These parameters are now stored inside the parameters dictionary we just created\n",
    "    W1 = None\n",
    "    b1 = None\n",
    "    W2 = None\n",
    "    b2 = None\n",
    "\n",
    "    for i in range(None):\n",
    "         \n",
    "        # Forward propagation. Inputs: \"X, parameters\". Outputs: \"fw_out\".\n",
    "        fw_out = None\n",
    "        \n",
    "        # We'll need A2 from fw_out to add it in the cost function\n",
    "        A2 = None\n",
    "        \n",
    "        # Use the cost function with inputs: \"A2\", \"Y\", \"parameters\".\n",
    "        cost = None\n",
    " \n",
    "        # Use the backward propagation function with inputs: \"parameters\", \"fw_out\", \"X\", \"Y\".\n",
    "        bw_out = None\n",
    " \n",
    "        # Parameter update with gradient descent. Inputs: \"parameters\" and\"bw_out\".\n",
    "        parameters = None\n",
    "                \n",
    "        # Print the cost every 1000 iterations\n",
    "        if print_cost and i % 1000 == 0:\n",
    "            print (\"Cost after iteration %i: %f\" %(i, cost))\n",
    "\n",
    "    return parameters"
   ]
  },
  {
   "cell_type": "markdown",
   "metadata": {},
   "source": [
    "We've got just one more function to write--a `predict` function that allows us to make predictions with our newly trained neural network! \n",
    "\n",
    "In the cell below, complete the `predict` function.  This function should:\n",
    "\n",
    "* Take in two parameters:  `X` and `parameters`.\n",
    "* Compute a full round of forward propagation\n",
    "* This function should return `predictions`,  a vector of booleans which will act as the network's binary classification based on every data point at the same index inside of X.  Since the activation function of our output layer is a sigmoid function, we can interpret the output as a probability.  For any given value inside of A2, the corresponding index inside `prediction` should be `True` if the value is greater than `0.5`--otherwise, it should be `False`.\n"
   ]
  },
  {
   "cell_type": "code",
   "execution_count": null,
   "metadata": {},
   "outputs": [],
   "source": [
    "def predict(parameters, X):\n",
    "    fw_out = None\n",
    "    A2 = None\n",
    "\n",
    "    predictions = None\n",
    "    return predictions"
   ]
  },
  {
   "cell_type": "markdown",
   "metadata": {},
   "source": [
    "Now, all we have left to do is call our functions to train our network, plot the decision boundaries, and compare the results to our logistic regression output from the very beginning!\n",
    "\n",
    "In the cell below:\n",
    "\n",
    "* Call `nn_model` and pass in `X_nn` and `Y_nn`.  Also set the parameters `n_1=6`, `num_iter=10000`, and `print_cost=True`."
   ]
  },
  {
   "cell_type": "code",
   "execution_count": null,
   "metadata": {},
   "outputs": [],
   "source": [
    "parameters = None\n",
    "\n",
    "# Plot the decision boundary\n",
    "plot_decision_boundary(lambda X: predict(parameters, X.T)) \n",
    "plt.title(\"Decision Boundary for neural network with 1 hidden layer\")"
   ]
  },
  {
   "cell_type": "code",
   "execution_count": null,
   "metadata": {},
   "outputs": [],
   "source": [
    "nn_predict = predict(parameters, X.T)"
   ]
  },
  {
   "cell_type": "code",
   "execution_count": null,
   "metadata": {},
   "outputs": [],
   "source": [
    "print ('The Multi-Layer Perceptron model has an accuracy of: ' \n",
    "       + str(np.sum(nn_predict == Y)/sample_size*100) + '%')"
   ]
  },
  {
   "cell_type": "markdown",
   "metadata": {},
   "source": [
    "# 4. Summary "
   ]
  },
  {
   "cell_type": "markdown",
   "metadata": {},
   "source": [
    "In this lab, you learned how to create a \"deeper\" (yet still shallow) neural network, with tanh activation functions in the hidden layer. You noticed how you can notably improve results compared to a logistic regression model! Hopefully, this illustrates well why neural networks are so useful. \n",
    "\n",
    "Things you can do from here:\n",
    "- Increase/decrease the number of nodes in the hidden layer\n",
    "- Change learning rate alpha.\n",
    "- Change the noise parameter in your data set."
   ]
  },
  {
   "cell_type": "markdown",
   "metadata": {},
   "source": [
    "# 5. Sources"
   ]
  },
  {
   "cell_type": "markdown",
   "metadata": {},
   "source": [
    "https://github.com/dennybritz/nn-from-scratch/blob/master/nn-from-scratch.ipynb --> helper function\n",
    "\n",
    "http://www.wildml.com/2015/09/implementing-a-neural-network-from-scratch/\n",
    "\n",
    "https://beckernick.github.io/neural-network-scratch/\n",
    "\n",
    "http://scikit-learn.org/stable/modules/generated/sklearn.datasets.make_circles.html"
   ]
  }
 ],
 "metadata": {
  "kernelspec": {
   "display_name": "Python 3",
   "language": "python",
   "name": "python3"
  },
  "language_info": {
   "codemirror_mode": {
    "name": "ipython",
    "version": 3
   },
   "file_extension": ".py",
   "mimetype": "text/x-python",
   "name": "python",
   "nbconvert_exporter": "python",
   "pygments_lexer": "ipython3",
   "version": "3.6.4"
  }
 },
 "nbformat": 4,
 "nbformat_minor": 2
}
